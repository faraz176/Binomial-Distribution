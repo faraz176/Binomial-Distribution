{
 "cells": [
  {
   "cell_type": "markdown",
   "id": "cdffd03f",
   "metadata": {},
   "source": [
    "# Solving binomial distribution problems through python code simulation\n"
   ]
  },
  {
   "cell_type": "markdown",
   "id": "f515478d",
   "metadata": {},
   "source": [
    "## Articles Referenced\n",
    "\n",
    "### Python code: https://towardsdatascience.com/fun-with-the-binomial-distribution-96a5ecabf65b\n",
    "\n",
    "### Problems https://www.intmath.com/counting-probability/12-binomial-probability-distributions.php\n",
    "\n",
    "### Research https://people.richland.edu/james/lecture/m170/ch06-bin.html\n"
   ]
  },
  {
   "cell_type": "markdown",
   "id": "e2f9e00c",
   "metadata": {},
   "source": [
    "## Important things to note & preface \n",
    "\n",
    "### There is formula to solve for the exact probababilities of each of the different circumstances. This formula is called the 'Binomial Distribution Formula' it is formulated like:"
   ]
  },
  {
   "cell_type": "markdown",
   "id": "21f60313",
   "metadata": {},
   "source": [
    "### #1 Problem"
   ]
  },
  {
   "cell_type": "markdown",
   "id": "4cfcba4a",
   "metadata": {},
   "source": [
    "### A die is tossed 3 times. What is the probability of\n",
    "\n",
    "#### (a) No fives turning up?\n",
    "\n",
    "#### (b) 1 five?\n",
    "\n",
    "#### (c) 3 fives?\n"
   ]
  },
  {
   "cell_type": "markdown",
   "id": "7ed5916a",
   "metadata": {},
   "source": [
    "#### Defining our parameters:\n",
    "Probabality of success:  .17\n",
    "<br>\n",
    "Number of trials:  3"
   ]
  },
  {
   "cell_type": "markdown",
   "id": "d15d09f4",
   "metadata": {},
   "source": [
    "#### Code:"
   ]
  },
  {
   "cell_type": "code",
   "execution_count": 5,
   "id": "37f9b226",
   "metadata": {},
   "outputs": [
    {
     "data": {
      "image/png": "[encoded data removed]",
      "text/plain": [
       "<Figure size 432x288 with 1 Axes>"
      ]
     },
     "metadata": {
      "needs_background": "light"
     },
     "output_type": "display_data"
    }
   ],
   "source": [
    "#Necessary Imports\n",
    "import numpy as np\n",
    "import matplotlib.pyplot as plt\n",
    "\n",
    "# Input variables# Number of trials the number of times you want to repeat the independent trialed experiment\n",
    "trials = 1000\n",
    "# Number of independent experiments in each trial\n",
    "n = 3\n",
    "# Probability of success for each experiment\n",
    "p = .17\n",
    "\n",
    "# Function that runs our coin toss trials\n",
    "\n",
    "# heads is a list of the number of successes from each trial of n experiments\n",
    "def run_binom(trials, n, p):\n",
    "    number_of_sucesses = []\n",
    "    for i in range(trials):\n",
    "        tosses = [np.random.random() for i in range(n)]\n",
    "        number_of_sucesses.append(len([i for i in tosses if i<=p]))\n",
    "    return number_of_sucesses\n",
    "\n",
    "# Run the function\n",
    "number_of_sucesses = run_binom(trials, n, p)\n",
    "\n",
    "\n",
    "# Plot the results as a histogram\n",
    "\n",
    "weights = np.ones_like(number_of_sucesses)/float(len(number_of_sucesses))\n",
    "plt.hist(number_of_sucesses, weights=weights)\n",
    "plt.xlabel('Dice')\n",
    "plt.ylabel('Freq')\n",
    "plt.show()"
   ]
  },
  {
   "cell_type": "markdown",
   "id": "b33535c0",
   "metadata": {},
   "source": [
    "### Conclusion:\n",
    "#### The likelyhood of not rolling a 5 in 3 trials is around 60%\n",
    "#### The likelyhood of rolling a 5 once in 3 trials is around 30% \n",
    "#### The likelyhood of rolling a 5 twice in 3 trials is around 9.8%\n",
    "#### The likelyhood of rolling a 5 thrice in 3 trials is around 0.2%"
   ]
  },
  {
   "cell_type": "markdown",
   "id": "fe53e07a",
   "metadata": {},
   "source": [
    "### #2 Problem"
   ]
  },
  {
   "cell_type": "markdown",
   "id": "6c9bb7d5",
   "metadata": {},
   "source": [
    "### Hospital records show that of patients suffering from a certain disease, 75% die of it."
   ]
  },
  {
   "cell_type": "markdown",
   "id": "cac124db",
   "metadata": {},
   "source": [
    "#### (a) What is the probability that of 6 randomly selected patients, 4 will recover?"
   ]
  },
  {
   "cell_type": "markdown",
   "id": "ffe77b83",
   "metadata": {},
   "source": [
    "#### Defining our parameters"
   ]
  },
  {
   "cell_type": "markdown",
   "id": "ac564a33",
   "metadata": {},
   "source": [
    "Probabality of success: .25\n",
    "<br>\n",
    "Number of trials: 6"
   ]
  },
  {
   "cell_type": "markdown",
   "id": "3302ba74",
   "metadata": {},
   "source": [
    "#### Code:"
   ]
  },
  {
   "cell_type": "code",
   "execution_count": 10,
   "id": "bbd6f434",
   "metadata": {},
   "outputs": [
    {
     "data": {
      "image/png": "[encoded data removed]",
      "text/plain": [
       "<Figure size 432x288 with 1 Axes>"
      ]
     },
     "metadata": {
      "needs_background": "light"
     },
     "output_type": "display_data"
    }
   ],
   "source": [
    "# Necessary Imports\n",
    "import numpy as np\n",
    "import matplotlib.pyplot as plt\n",
    "\n",
    "# Input variables# Number of trials the number of times you want to repeat the independent trialed experiment\n",
    "trials = 1000\n",
    "# Number of independent experiments in each trial\n",
    "n = 6\n",
    "# Probability of success for each experiment\n",
    "p = .25\n",
    "\n",
    "# Function that runs our coin toss trials\n",
    "\n",
    "# heads is a list of the number of successes from each trial of n experiments\n",
    "def run_binom(trials, n, p):\n",
    "    number_of_sucesses = []\n",
    "    for i in range(trials):\n",
    "        attempts = [np.random.random() for i in range(n)]\n",
    "        number_of_sucesses.append(len([i for i in attempts if i<=p]))\n",
    "    return number_of_sucesses\n",
    "\n",
    "# Run the function\n",
    "number_of_sucesses = run_binom(trials, n, p)\n",
    "\n",
    "\n",
    "# Plot the results as a histogram\n",
    "\n",
    "weights = np.ones_like(number_of_sucesses)/float(len(number_of_sucesses))\n",
    "plt.hist(number_of_sucesses, weights=weights)\n",
    "plt.xlabel('Patients Recovering')\n",
    "plt.ylabel('Freq')\n",
    "plt.show()"
   ]
  },
  {
   "cell_type": "markdown",
   "id": "635e2c06",
   "metadata": {},
   "source": [
    "#### Conclusion\n"
   ]
  }
 ],
 "metadata": {
  "kernelspec": {
   "display_name": "Python 3",
   "language": "python",
   "name": "python3"
  },
  "language_info": {
   "codemirror_mode": {
    "name": "ipython",
    "version": 3
   },
   "file_extension": ".py",
   "mimetype": "text/x-python",
   "name": "python",
   "nbconvert_exporter": "python",
   "pygments_lexer": "ipython3",
   "version": "3.7.8"
  }
 },
 "nbformat": 4,
 "nbformat_minor": 5
}
